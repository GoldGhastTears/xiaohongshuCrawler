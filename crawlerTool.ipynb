{
 "cells": [
  {
   "cell_type": "code",
   "execution_count": null,
   "id": "b3db9abc-d473-4c8a-a1d1-f27c22892ee3",
   "metadata": {
    "tags": []
   },
   "outputs": [],
   "source": [
    "import requests\n",
    "from bs4 import BeautifulSoup\n",
    "from tqdm import tqdm\n",
    "\n",
    "# 读取data.txt文件中的数据\n",
    "with open('data.txt', 'r', encoding='utf-8') as file:\n",
    "    data = file.readlines()\n",
    "\n",
    "# 发送HTTP GET请求获取页面内容，并提取<meta>标签的content\n",
    "def get_content(url):\n",
    "    response = requests.get(url)\n",
    "    soup = BeautifulSoup(response.text, 'html.parser')\n",
    "    meta_tag = soup.find('meta', attrs={'name': 'description'})\n",
    "    content = meta_tag.get('content') if meta_tag else ''\n",
    "    return content\n",
    "\n",
    "# 创建文本文件并写入数据\n",
    "with open('output.txt', 'w', encoding='utf-8') as txtfile:\n",
    "    # 提取数据并写入文本文件\n",
    "    for i, line in enumerate(tqdm(data[1:], desc='提取进度'), 1):\n",
    "        line = line.strip()\n",
    "        article_id, title = line.split(': ')\n",
    "        url = f'https://www.xiaohongshu.com/explore/{article_id}'\n",
    "        content = get_content(url)\n",
    "        txtfile.write(f'序号: {i}\\n')\n",
    "        txtfile.write(f'链接: {url}\\n')\n",
    "        txtfile.write(f'标题: {title}\\n')\n",
    "        txtfile.write(f'内容: {content}\\n\\n')\n",
    "\n",
    "print(\"提取完成并已保存到output.txt文件中。\")\n"
   ]
  }
 ],
 "metadata": {
  "kernelspec": {
   "display_name": "Python 3 (ipykernel)",
   "language": "python",
   "name": "python3"
  },
  "language_info": {
   "codemirror_mode": {
    "name": "ipython",
    "version": 3
   },
   "file_extension": ".py",
   "mimetype": "text/x-python",
   "name": "python",
   "nbconvert_exporter": "python",
   "pygments_lexer": "ipython3",
   "version": "3.11.4"
  }
 },
 "nbformat": 4,
 "nbformat_minor": 5
}
